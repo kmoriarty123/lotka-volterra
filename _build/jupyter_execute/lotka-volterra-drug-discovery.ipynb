{
 "cells": [
  {
   "cell_type": "markdown",
   "metadata": {
    "collapsed": false,
    "pycharm": {
     "name": "#%% md\n"
    }
   },
   "source": [
    "# Lotka-Volterra in Drug Discovery"
   ]
  },
  {
   "cell_type": "markdown",
   "metadata": {
    "collapsed": false
   },
   "source": [
    "The Lotka-Volterra Model is not limited to predator-prey models. It has been applied over the past few decades to\n",
    "the study of evolutionary biology. When treating humans or animals with drugs that aim to rid the body\n",
    "of pathogens or cancerous cells, natural evolution is at play and the organism (or virus) utilizes survival mechanisms\n",
    "to adapt. This is problematic for humans - it invites organisms to evolve into drug-resistant forms.\n",
    "\n",
    "Adaptive therapy strategies have been replacing maximum tolerant dose treatment for some cancers in order to maintain\n",
    "a level of therapy-sensitive cells in the tumor {cite:p}`enriquez2015application`. This prevents the therapy-resistant\n",
    "cells from thriving because they are forced to compete for\n",
    "resources with the therapy-sensitive cells. The goal of adaptive therapy is to maintain control of tumor growth while\n",
    "also suppressing the growth of therapy-resistant cells. The competitive dynamics between these sensitive and resistant\n",
    "cells can be modeled using the competitive Lotka-Volterra system.\n",
    "\n",
    "{cite:t}`zhang2017integrating` created a Lotka-Volterra model to compare the mechanisms of treating metastatic castrate-\n",
    "resistant prostate cancer with Abiraterone, a drug that inhibits a protein, CYP17A1, involved in androgen synthesis.\n",
    "The population dynamics of the T+ cells, which require exogenous androgen, TP cells, which express CYP17A1, and T- cells,\n",
    "which are resistant to the drug, are modeled using the competitive Lotka-Volterra equations.\n",
    "\n",
    "> $ \\frac{dx_i}{dt}=r_ix_i(1-\\frac{\\sum_{j=1}^{3} a_{ij}x_j}{K_i}) $\n",
    "\n",
    "In this case, N = 3 since there are 3 different types of cells interacting with each other and competing for\n",
    "resources.\n",
    "\n",
    "Using the parameter information for patient #1 that was published in the article, we can apply the Lotka-Volterra model\n",
    "to see the dynamics of the cell populations."
   ]
  },
  {
   "cell_type": "code",
   "execution_count": 1,
   "metadata": {
    "collapsed": false,
    "pycharm": {
     "name": "#%% Setup Initial Conditions\n"
    }
   },
   "outputs": [],
   "source": [
    "import matplotlib.pyplot as plt\n",
    "import numpy as np\n",
    "from scipy.integrate import odeint as ode\n",
    "\n",
    "init_pop = [2500, 3000, 0] # initial population levels [prey, predator]\n",
    "\n",
    "t_steps = 1000 # time steps\n",
    "t_end = 10000 # end of time interval\n",
    "time = np.linspace(0, t_end, num=t_steps) # array to store time\n",
    "\n",
    "grow_rate = [0.278, 0.355, 0.665] # growth rate of cells\n",
    "grow_rate = [.01 * i for i in grow_rate] # author state it was an overestimation of growth_rate by 10%\n",
    "\n",
    "# matrix to track interaction coefficients\n",
    "A = [[1, 0.7, 0.8],\n",
    "     [0.4, 1, 0.5],\n",
    "     [0.6, 0.9, 1]]\n",
    "\n",
    "k = [1.5, 10000, 10000] # carrying capacity (T+ is dynamic, but I leave it as static for this example)"
   ]
  },
  {
   "cell_type": "code",
   "execution_count": 2,
   "metadata": {
    "collapsed": false,
    "pycharm": {
     "name": "#%%\n"
    }
   },
   "outputs": [
    {
     "data": {
      "image/png": "[encoded data removed]",
      "text/plain": [
       "<Figure size 432x288 with 1 Axes>"
      ]
     },
     "metadata": {
      "filenames": {
       "image/png": "C:\\Users\\morika\\Desktop\\AMIDD\\lotka-volterra\\_build\\jupyter_execute\\lotka-volterra-drug-discovery_3_0.png"
      },
      "needs_background": "light"
     },
     "output_type": "display_data"
    }
   ],
   "source": [
    "# Define the simulation function\n",
    "def run_simu(tmp_pop, tmp_time, tmp_A):\n",
    "\n",
    "    tmp_x = tmp_pop[0] # T+ population value\n",
    "    tmp_y = tmp_pop[1] # TP population value\n",
    "    tmp_z = tmp_pop[2] # T- population value\n",
    "\n",
    "    dxdt = grow_rate[0] * tmp_x * (1 - (tmp_A[0][0] * tmp_x + tmp_A[0][1] * tmp_y + tmp_A[0][2] * tmp_z)/(k[0]*tmp_y))\n",
    "    dydt = grow_rate[1] * tmp_y * (1 - (tmp_A[1][0] * tmp_x + tmp_A[1][1] * tmp_y + tmp_A[1][2] * tmp_z)/k[1])\n",
    "    dzdt = grow_rate[2] * tmp_z * (1 - (tmp_A[2][0] * tmp_x + tmp_A[2][1] * tmp_y + tmp_A[2][2] * tmp_z)/k[2])\n",
    "\n",
    "    return[dxdt, dydt, dzdt]\n",
    "\n",
    "# Call the ode solver function\n",
    "output = ode(run_simu, init_pop, time, args = (A,))\n",
    "\n",
    "plt.plot(time, output[:,0], color = \"green\", label = \"T+\") # Prey output\n",
    "plt.plot(time, output[:,1], color = \"yellow\", label = \"TP\") # Prey output\n",
    "plt.plot(time, output[:,2], color = \"red\", label = \"T-\") # Prey output\n",
    "\n",
    "plt.xlabel(\"Time\")\n",
    "plt.ylabel(\"Population Level\")\n",
    "\n",
    "plt.title(\"T+, TP, and T- Dynamics\")\n",
    "plt.legend()\n",
    "plt.grid()\n",
    "\n",
    "plt.show()"
   ]
  },
  {
   "cell_type": "markdown",
   "metadata": {
    "collapsed": false,
    "pycharm": {
     "name": "#%% md\n"
    }
   },
   "source": [
    "The plot displays the results of the solutions to the model if the tumor was left without intervention - cancer cell\n",
    "levels reaching deadly levels. The next steps would be to model the different treatment interventions and simulate the\n",
    "cell populations. In this manner, one can predict which treatment is better for patient #1. After applying the different\n",
    "therapies to the model, the authors found that the adaptive therapy prevented the growth of T- cells for a much longer\n",
    "period than the state-of-the-art treatment of maximum tolerant dose."
   ]
  },
  {
   "cell_type": "markdown",
   "metadata": {
    "collapsed": false,
    "pycharm": {
     "name": "#%% md\n"
    }
   },
   "source": [
    "The model has many limitations. The authors state these limitations and express the need for further research with more\n",
    "data. The underlying assumption that the treatment sensitive and treatment resistant cells\n",
    "compete with each other in the tumor is not confirmed. Perhaps it is the dynamic for this particular cancer, but\n",
    "for more heterogeneous and less spatially constrained tumors, this basic Lotka-Volterra model might not be sufficient."
   ]
  },
  {
   "cell_type": "markdown",
   "metadata": {
    "collapsed": false,
    "pycharm": {
     "name": "#%% md\n"
    }
   },
   "source": [
    "There are many other applications of the Lotka-Volterra model in drug discovery. A related field to the competition of\n",
    "therapy sensitive and therapy resistant cancerous cells is the competition between therapy resistant and\n",
    "sensitive strains of viruses. Neuraminidase inhibitors (NAI) include oseltamivir, zanamivir, and peramivir, which are the main antiviral\n",
    "drugs approved to treat viral infections. Understanding the viral fitness of within host and between host strains of\n",
    "influenza virus NAI-resistant and sensitive strains is important for future drug development and dosing strategies.\n",
    "{cite:t}`dimas2020modeling` used the Lotka-Volterra Model to predict population dynamics of within host and between\n",
    "host fitness of these influenza virus strains in ferrets.\n",
    "\n",
    "Another application of the Lotka-Volterra model deals with primary infections and their secondary, opportunisitc infections,\n",
    "such as HIV with *Mycobacterium tuberculosis* or HIV with *Candida albicans*. Co-infections can inhibit\n",
    "success of drug interventions so understanding the dynamics of coinfections is essential for successful therapy.\n",
    "{cite:t}`eswarappa2012within` used the Lotka-Volterra equations to model different coinfection dynamics.\n",
    "The pathogen species can have very distinct\n",
    "interactions ranging from a relationship of reciprocal facilitation to competition. The authors modeled these different\n",
    "types of relationships and found, not surprisingly, that reciprocal facilitation of the two pathogens could cause the most harm for the host.\n"
   ]
  }
 ],
 "metadata": {
  "kernelspec": {
   "display_name": "Python 3",
   "language": "python",
   "name": "python3"
  },
  "language_info": {
   "codemirror_mode": {
    "name": "ipython",
    "version": 3
   },
   "file_extension": ".py",
   "mimetype": "text/x-python",
   "name": "python",
   "nbconvert_exporter": "python",
   "pygments_lexer": "ipython3",
   "version": "3.9.6"
  }
 },
 "nbformat": 4,
 "nbformat_minor": 0
}